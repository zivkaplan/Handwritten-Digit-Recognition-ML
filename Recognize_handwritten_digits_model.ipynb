{
  "nbformat": 4,
  "nbformat_minor": 0,
  "metadata": {
    "colab": {
      "name": "Recognize handwritten digits model.ipynb",
      "provenance": [],
      "collapsed_sections": []
    },
    "kernelspec": {
      "name": "python3",
      "display_name": "Python 3"
    },
    "language_info": {
      "name": "python"
    },
    "accelerator": "GPU"
  },
  "cells": [
    {
      "cell_type": "markdown",
      "metadata": {
        "id": "x_7UqlXn-4NF"
      },
      "source": [
        "# Handwritten Digit Recognition ML"
      ]
    },
    {
      "cell_type": "markdown",
      "metadata": {
        "id": "3GL4VMcM_Gsv"
      },
      "source": [
        "## Imports"
      ]
    },
    {
      "cell_type": "code",
      "metadata": {
        "id": "-6tkgUMPGUma"
      },
      "source": [
        "import tensorflow as tf\n",
        "from tensorflow.keras.layers import Flatten, Dense, Conv2D, MaxPooling2D, Dropout\n",
        "import matplotlib.pyplot as plt\n",
        "import numpy as np\n",
        "from PIL import Image\n",
        "import requests"
      ],
      "execution_count": null,
      "outputs": []
    },
    {
      "cell_type": "markdown",
      "metadata": {
        "id": "CZgCQQLgAgaM"
      },
      "source": [
        "## Data Preperations"
      ]
    },
    {
      "cell_type": "markdown",
      "metadata": {
        "id": "Uf66Pz5w_RHW"
      },
      "source": [
        "### load data\n",
        "(and view sample image)\n",
        "\n",
        "This project uses the MNIST Handwritten Digit Classification Dataset\n",
        "\n",
        "The MNIST dataset is an acronym that stands for the Modified National Institute of Standards and Technology dataset. It is a dataset of 60,000 small square 28×28 pixel grayscale images of handwritten single digits between 0 and 9."
      ]
    },
    {
      "cell_type": "code",
      "metadata": {
        "id": "k-96zenDGwGX"
      },
      "source": [
        "mnist = tf.keras.datasets.mnist \n",
        "(input_train, target_train), (input_test, target_test) = mnist.load_data()"
      ],
      "execution_count": null,
      "outputs": []
    },
    {
      "cell_type": "code",
      "metadata": {
        "colab": {
          "base_uri": "https://localhost:8080/",
          "height": 265
        },
        "id": "sKMWAEhCG2Dl",
        "outputId": "c9442d06-2b0e-4219-ab22-87beb9942257"
      },
      "source": [
        "plt.imshow(input_train[0], cmap=\"gray\")\n",
        "input_train[0].shape\n",
        "plt.show()"
      ],
      "execution_count": null,
      "outputs": [
        {
          "output_type": "display_data",
          "data": {
            "image/png": "[encoded data removed]",
            "text/plain": [
              "<Figure size 432x288 with 1 Axes>"
            ]
          },
          "metadata": {
            "needs_background": "light"
          }
        }
      ]
    },
    {
      "cell_type": "markdown",
      "metadata": {
        "id": "Mevui03L_0S3"
      },
      "source": [
        "### Prepare the data\n",
        "(get and set input shape and normalize values)\n"
      ]
    },
    {
      "cell_type": "code",
      "metadata": {
        "id": "SOHc4RHTLVDG"
      },
      "source": [
        "# get and set input shape\n",
        "sample_shape = input_train[0].shape\n",
        "img_width, img_height = sample_shape[0], sample_shape[1]\n",
        "input_shape = (img_width, img_height, 1)\n",
        "\n",
        "# Normalize and Reshape data \n",
        "input_train_reshaped = tf.keras.utils.normalize(input_train, axis=1).reshape(len(input_train), input_shape[0], input_shape[1], input_shape[2])\n",
        "input_test_reshaped  = tf.keras.utils.normalize(input_test, axis=1).reshape(len(input_test), input_shape[0], input_shape[1], input_shape[2])"
      ],
      "execution_count": null,
      "outputs": []
    },
    {
      "cell_type": "markdown",
      "metadata": {
        "id": "ThNinJPgAaeU"
      },
      "source": [
        "## The Model"
      ]
    },
    {
      "cell_type": "markdown",
      "metadata": {
        "id": "g8YSXrbwAHNY"
      },
      "source": [
        "### Building and Compiling the Model"
      ]
    },
    {
      "cell_type": "code",
      "metadata": {
        "id": "F-P1UlpyHvRK"
      },
      "source": [
        "# CNN model\n",
        "model = tf.keras.models.Sequential()\n",
        " \n",
        "model.add(Conv2D(32, (3,3), padding='same', activation=\"relu\",input_shape=(28, 28, 1)))\n",
        "model.add(MaxPooling2D((2, 2), strides=2))\n",
        "model.add(Conv2D(64, (3,3), padding='same', activation=\"relu\"))\n",
        "model.add(MaxPooling2D((2, 2), strides=2))\n",
        "model.add(Conv2D(128, (3,3), padding='same', activation=\"relu\"))\n",
        "model.add(MaxPooling2D((2, 2), strides=2))\n",
        "model.add(Flatten())\n",
        "model.add(Dropout(0.2))\n",
        "model.add(Dense(128, activation=\"relu\"))\n",
        "model.add(Dropout(0.2))\n",
        "model.add(Dense(64, activation=\"relu\"))\n",
        "model.add(Dense(10, activation=\"softmax\"))"
      ],
      "execution_count": null,
      "outputs": []
    },
    {
      "cell_type": "code",
      "metadata": {
        "id": "pJbZ7uvpI9GZ"
      },
      "source": [
        "model.compile(optimizer=\"ADAM\", loss=\"sparse_categorical_crossentropy\", metrics=[\"accuracy\"])"
      ],
      "execution_count": null,
      "outputs": []
    },
    {
      "cell_type": "markdown",
      "metadata": {
        "id": "807JnSOjAVTu"
      },
      "source": [
        "### Training the Model"
      ]
    },
    {
      "cell_type": "code",
      "metadata": {
        "id": "SChSMYMygu2Y"
      },
      "source": [
        "epochs = 10"
      ],
      "execution_count": null,
      "outputs": []
    },
    {
      "cell_type": "code",
      "metadata": {
        "colab": {
          "base_uri": "https://localhost:8080/"
        },
        "id": "Aaa6Vf54JY1Z",
        "outputId": "db597081-6323-4024-beed-d4856230db22"
      },
      "source": [
        "model.fit(x=input_train_reshaped, y=target_train, epochs=epochs)"
      ],
      "execution_count": null,
      "outputs": [
        {
          "output_type": "stream",
          "name": "stdout",
          "text": [
            "Epoch 1/10\n",
            "1875/1875 [==============================] - 19s 9ms/step - loss: 0.2107 - accuracy: 0.9327\n",
            "Epoch 2/10\n",
            "1875/1875 [==============================] - 17s 9ms/step - loss: 0.0639 - accuracy: 0.9804\n",
            "Epoch 3/10\n",
            "1875/1875 [==============================] - 17s 9ms/step - loss: 0.0495 - accuracy: 0.9852\n",
            "Epoch 4/10\n",
            "1875/1875 [==============================] - 17s 9ms/step - loss: 0.0389 - accuracy: 0.9880\n",
            "Epoch 5/10\n",
            "1875/1875 [==============================] - 17s 9ms/step - loss: 0.0341 - accuracy: 0.9896\n",
            "Epoch 6/10\n",
            "1875/1875 [==============================] - 17s 9ms/step - loss: 0.0275 - accuracy: 0.9915\n",
            "Epoch 7/10\n",
            "1875/1875 [==============================] - 17s 9ms/step - loss: 0.0243 - accuracy: 0.9923\n",
            "Epoch 8/10\n",
            "1875/1875 [==============================] - 17s 9ms/step - loss: 0.0220 - accuracy: 0.9930\n",
            "Epoch 9/10\n",
            "1875/1875 [==============================] - 17s 9ms/step - loss: 0.0182 - accuracy: 0.9941\n",
            "Epoch 10/10\n",
            "1875/1875 [==============================] - 17s 9ms/step - loss: 0.0182 - accuracy: 0.9945\n"
          ]
        }
      ]
    },
    {
      "cell_type": "code",
      "metadata": {
        "id": "lDNcU2mLMmMi"
      },
      "source": [
        "test_loss, test_accuracy = model.evaluate(x=input_test_reshaped, y=target_test)\n",
        "print('Accuracy on test dataset:', test_accuracy )"
      ],
      "execution_count": null,
      "outputs": []
    },
    {
      "cell_type": "markdown",
      "metadata": {
        "id": "o6Dmp_WLC0FD"
      },
      "source": [
        "## Predictions"
      ]
    },
    {
      "cell_type": "markdown",
      "metadata": {
        "id": "9pgY3rbPAwea"
      },
      "source": [
        "### Predictions on the Test Dataset"
      ]
    },
    {
      "cell_type": "code",
      "metadata": {
        "id": "s8-uQeAhNxE8"
      },
      "source": [
        "predictions = model.predict([input_test_reshaped])"
      ],
      "execution_count": null,
      "outputs": []
    },
    {
      "cell_type": "code",
      "metadata": {
        "id": "AzD5miTiN1V5"
      },
      "source": [
        "for i in range(0,10):\n",
        "  plt.imshow(input_test[i], cmap=\"gray\") \n",
        "  plt.show()\n",
        "  print(\"The digit above is:\", np.argmax(predictions[i])) "
      ],
      "execution_count": null,
      "outputs": []
    },
    {
      "cell_type": "markdown",
      "metadata": {
        "id": "Tj42_FbJBUWo"
      },
      "source": [
        "### Prediction on Unseen Data\n",
        "\n",
        "The data below was generated using [this website](https://zivkaplan.github.io/Digit-Recognizer/) that I created to generate hand written images in the correct input resolution.\n",
        "\n",
        "[Open source code on Github](https://https://github.com/zivkaplan/Digit-Recognizer)"
      ]
    },
    {
      "cell_type": "code",
      "metadata": {
        "id": "_Shi87O9lvxD"
      },
      "source": [
        "for i in range(1,6):\n",
        "  url = \"https://raw.githubusercontent.com/zivkaplan/Digit-Recognizer/main/sample_imgs/my-canvas(\" + str(i) + \").jpeg\"\n",
        "  img = Image.open(requests.get(url, stream=True).raw)\n",
        "  plt.imshow(img) \n",
        "  plt.show() \n",
        "  img = np.asarray(img)\n",
        "  img = img[:,:,0] # to grayscale\n",
        "  img_reshaped = tf.keras.utils.normalize(img, axis=1).reshape(1, input_shape[0], input_shape[1], input_shape[2])\n",
        "  \n",
        "  result = model.predict(img_reshaped)\n",
        "  print(\"The digit above is: \", np.argmax(result), \"\\nAccuracy rate: \", np.amax(result))"
      ],
      "execution_count": null,
      "outputs": []
    }
  ]
}